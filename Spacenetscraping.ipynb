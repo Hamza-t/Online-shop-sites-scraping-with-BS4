{
  "nbformat": 4,
  "nbformat_minor": 0,
  "metadata": {
    "colab": {
      "provenance": [],
      "authorship_tag": "ABX9TyMNnxaOXLff38XKZeqSKVmv",
      "include_colab_link": true
    },
    "kernelspec": {
      "name": "python3",
      "display_name": "Python 3"
    },
    "language_info": {
      "name": "python"
    }
  },
  "cells": [
    {
      "cell_type": "markdown",
      "metadata": {
        "id": "view-in-github",
        "colab_type": "text"
      },
      "source": [
        "<a href=\"https://colab.research.google.com/github/Hamza-t/Online-shop-sites-scraping-with-bs4/blob/main/Spacenetscraping.ipynb\" target=\"_parent\"><img src=\"https://colab.research.google.com/assets/colab-badge.svg\" alt=\"Open In Colab\"/></a>"
      ]
    },
    {
      "cell_type": "code",
      "execution_count": null,
      "metadata": {
        "id": "00s5F-yRxyQV"
      },
      "outputs": [],
      "source": [
        "from bs4 import BeautifulSoup\n",
        "import requests\n",
        "import warnings\n",
        "import pandas as pd \n",
        "import urllib.parse\n",
        "from lxml import html\n",
        "import re\n",
        "warnings.filterwarnings(\"ignore\")"
      ]
    },
    {
      "cell_type": "code",
      "source": [
        "import requests\n",
        "\n",
        "BASE_URL = 'https://www.med.tn'\n",
        "\n",
        "response = requests.get(f\"{BASE_URL}/pharmacie\")\n",
        "print(response.json())"
      ],
      "metadata": {
        "id": "DfqLSX8XzVVD",
        "colab": {
          "base_uri": "https://localhost:8080/",
          "height": 328
        },
        "outputId": "0fee0c24-d482-4925-f334-7daddee9f267"
      },
      "execution_count": null,
      "outputs": [
        {
          "output_type": "error",
          "ename": "JSONDecodeError",
          "evalue": "ignored",
          "traceback": [
            "\u001b[0;31m---------------------------------------------------------------------------\u001b[0m",
            "\u001b[0;31mJSONDecodeError\u001b[0m                           Traceback (most recent call last)",
            "\u001b[0;32m<ipython-input-8-b1b74564ed85>\u001b[0m in \u001b[0;36m<module>\u001b[0;34m()\u001b[0m\n\u001b[1;32m      4\u001b[0m \u001b[0;34m\u001b[0m\u001b[0m\n\u001b[1;32m      5\u001b[0m \u001b[0mresponse\u001b[0m \u001b[0;34m=\u001b[0m \u001b[0mrequests\u001b[0m\u001b[0;34m.\u001b[0m\u001b[0mget\u001b[0m\u001b[0;34m(\u001b[0m\u001b[0;34mf\"{BASE_URL}/pharmacie\"\u001b[0m\u001b[0;34m)\u001b[0m\u001b[0;34m\u001b[0m\u001b[0;34m\u001b[0m\u001b[0m\n\u001b[0;32m----> 6\u001b[0;31m \u001b[0mprint\u001b[0m\u001b[0;34m(\u001b[0m\u001b[0mresponse\u001b[0m\u001b[0;34m.\u001b[0m\u001b[0mjson\u001b[0m\u001b[0;34m(\u001b[0m\u001b[0;34m)\u001b[0m\u001b[0;34m)\u001b[0m\u001b[0;34m\u001b[0m\u001b[0;34m\u001b[0m\u001b[0m\n\u001b[0m",
            "\u001b[0;32m/usr/local/lib/python3.7/dist-packages/requests/models.py\u001b[0m in \u001b[0;36mjson\u001b[0;34m(self, **kwargs)\u001b[0m\n\u001b[1;32m    896\u001b[0m                     \u001b[0;31m# used.\u001b[0m\u001b[0;34m\u001b[0m\u001b[0;34m\u001b[0m\u001b[0;34m\u001b[0m\u001b[0m\n\u001b[1;32m    897\u001b[0m                     \u001b[0;32mpass\u001b[0m\u001b[0;34m\u001b[0m\u001b[0;34m\u001b[0m\u001b[0m\n\u001b[0;32m--> 898\u001b[0;31m         \u001b[0;32mreturn\u001b[0m \u001b[0mcomplexjson\u001b[0m\u001b[0;34m.\u001b[0m\u001b[0mloads\u001b[0m\u001b[0;34m(\u001b[0m\u001b[0mself\u001b[0m\u001b[0;34m.\u001b[0m\u001b[0mtext\u001b[0m\u001b[0;34m,\u001b[0m \u001b[0;34m**\u001b[0m\u001b[0mkwargs\u001b[0m\u001b[0;34m)\u001b[0m\u001b[0;34m\u001b[0m\u001b[0;34m\u001b[0m\u001b[0m\n\u001b[0m\u001b[1;32m    899\u001b[0m \u001b[0;34m\u001b[0m\u001b[0m\n\u001b[1;32m    900\u001b[0m     \u001b[0;34m@\u001b[0m\u001b[0mproperty\u001b[0m\u001b[0;34m\u001b[0m\u001b[0;34m\u001b[0m\u001b[0m\n",
            "\u001b[0;32m/usr/lib/python3.7/json/__init__.py\u001b[0m in \u001b[0;36mloads\u001b[0;34m(s, encoding, cls, object_hook, parse_float, parse_int, parse_constant, object_pairs_hook, **kw)\u001b[0m\n\u001b[1;32m    346\u001b[0m             \u001b[0mparse_int\u001b[0m \u001b[0;32mis\u001b[0m \u001b[0;32mNone\u001b[0m \u001b[0;32mand\u001b[0m \u001b[0mparse_float\u001b[0m \u001b[0;32mis\u001b[0m \u001b[0;32mNone\u001b[0m \u001b[0;32mand\u001b[0m\u001b[0;34m\u001b[0m\u001b[0;34m\u001b[0m\u001b[0m\n\u001b[1;32m    347\u001b[0m             parse_constant is None and object_pairs_hook is None and not kw):\n\u001b[0;32m--> 348\u001b[0;31m         \u001b[0;32mreturn\u001b[0m \u001b[0m_default_decoder\u001b[0m\u001b[0;34m.\u001b[0m\u001b[0mdecode\u001b[0m\u001b[0;34m(\u001b[0m\u001b[0ms\u001b[0m\u001b[0;34m)\u001b[0m\u001b[0;34m\u001b[0m\u001b[0;34m\u001b[0m\u001b[0m\n\u001b[0m\u001b[1;32m    349\u001b[0m     \u001b[0;32mif\u001b[0m \u001b[0mcls\u001b[0m \u001b[0;32mis\u001b[0m \u001b[0;32mNone\u001b[0m\u001b[0;34m:\u001b[0m\u001b[0;34m\u001b[0m\u001b[0;34m\u001b[0m\u001b[0m\n\u001b[1;32m    350\u001b[0m         \u001b[0mcls\u001b[0m \u001b[0;34m=\u001b[0m \u001b[0mJSONDecoder\u001b[0m\u001b[0;34m\u001b[0m\u001b[0;34m\u001b[0m\u001b[0m\n",
            "\u001b[0;32m/usr/lib/python3.7/json/decoder.py\u001b[0m in \u001b[0;36mdecode\u001b[0;34m(self, s, _w)\u001b[0m\n\u001b[1;32m    335\u001b[0m \u001b[0;34m\u001b[0m\u001b[0m\n\u001b[1;32m    336\u001b[0m         \"\"\"\n\u001b[0;32m--> 337\u001b[0;31m         \u001b[0mobj\u001b[0m\u001b[0;34m,\u001b[0m \u001b[0mend\u001b[0m \u001b[0;34m=\u001b[0m \u001b[0mself\u001b[0m\u001b[0;34m.\u001b[0m\u001b[0mraw_decode\u001b[0m\u001b[0;34m(\u001b[0m\u001b[0ms\u001b[0m\u001b[0;34m,\u001b[0m \u001b[0midx\u001b[0m\u001b[0;34m=\u001b[0m\u001b[0m_w\u001b[0m\u001b[0;34m(\u001b[0m\u001b[0ms\u001b[0m\u001b[0;34m,\u001b[0m \u001b[0;36m0\u001b[0m\u001b[0;34m)\u001b[0m\u001b[0;34m.\u001b[0m\u001b[0mend\u001b[0m\u001b[0;34m(\u001b[0m\u001b[0;34m)\u001b[0m\u001b[0;34m)\u001b[0m\u001b[0;34m\u001b[0m\u001b[0;34m\u001b[0m\u001b[0m\n\u001b[0m\u001b[1;32m    338\u001b[0m         \u001b[0mend\u001b[0m \u001b[0;34m=\u001b[0m \u001b[0m_w\u001b[0m\u001b[0;34m(\u001b[0m\u001b[0ms\u001b[0m\u001b[0;34m,\u001b[0m \u001b[0mend\u001b[0m\u001b[0;34m)\u001b[0m\u001b[0;34m.\u001b[0m\u001b[0mend\u001b[0m\u001b[0;34m(\u001b[0m\u001b[0;34m)\u001b[0m\u001b[0;34m\u001b[0m\u001b[0;34m\u001b[0m\u001b[0m\n\u001b[1;32m    339\u001b[0m         \u001b[0;32mif\u001b[0m \u001b[0mend\u001b[0m \u001b[0;34m!=\u001b[0m \u001b[0mlen\u001b[0m\u001b[0;34m(\u001b[0m\u001b[0ms\u001b[0m\u001b[0;34m)\u001b[0m\u001b[0;34m:\u001b[0m\u001b[0;34m\u001b[0m\u001b[0;34m\u001b[0m\u001b[0m\n",
            "\u001b[0;32m/usr/lib/python3.7/json/decoder.py\u001b[0m in \u001b[0;36mraw_decode\u001b[0;34m(self, s, idx)\u001b[0m\n\u001b[1;32m    353\u001b[0m             \u001b[0mobj\u001b[0m\u001b[0;34m,\u001b[0m \u001b[0mend\u001b[0m \u001b[0;34m=\u001b[0m \u001b[0mself\u001b[0m\u001b[0;34m.\u001b[0m\u001b[0mscan_once\u001b[0m\u001b[0;34m(\u001b[0m\u001b[0ms\u001b[0m\u001b[0;34m,\u001b[0m \u001b[0midx\u001b[0m\u001b[0;34m)\u001b[0m\u001b[0;34m\u001b[0m\u001b[0;34m\u001b[0m\u001b[0m\n\u001b[1;32m    354\u001b[0m         \u001b[0;32mexcept\u001b[0m \u001b[0mStopIteration\u001b[0m \u001b[0;32mas\u001b[0m \u001b[0merr\u001b[0m\u001b[0;34m:\u001b[0m\u001b[0;34m\u001b[0m\u001b[0;34m\u001b[0m\u001b[0m\n\u001b[0;32m--> 355\u001b[0;31m             \u001b[0;32mraise\u001b[0m \u001b[0mJSONDecodeError\u001b[0m\u001b[0;34m(\u001b[0m\u001b[0;34m\"Expecting value\"\u001b[0m\u001b[0;34m,\u001b[0m \u001b[0ms\u001b[0m\u001b[0;34m,\u001b[0m \u001b[0merr\u001b[0m\u001b[0;34m.\u001b[0m\u001b[0mvalue\u001b[0m\u001b[0;34m)\u001b[0m \u001b[0;32mfrom\u001b[0m \u001b[0;32mNone\u001b[0m\u001b[0;34m\u001b[0m\u001b[0;34m\u001b[0m\u001b[0m\n\u001b[0m\u001b[1;32m    356\u001b[0m         \u001b[0;32mreturn\u001b[0m \u001b[0mobj\u001b[0m\u001b[0;34m,\u001b[0m \u001b[0mend\u001b[0m\u001b[0;34m\u001b[0m\u001b[0;34m\u001b[0m\u001b[0m\n",
            "\u001b[0;31mJSONDecodeError\u001b[0m: Expecting value: line 1 column 1 (char 0)"
          ]
        }
      ]
    },
    {
      "cell_type": "code",
      "source": [
        "site = \"https://www.med.tn/pharmacie\"   "
      ],
      "metadata": {
        "id": "iCh3hxbNxy5u"
      },
      "execution_count": null,
      "outputs": []
    },
    {
      "cell_type": "code",
      "source": [
        "response = requests.get(site,verify=False)"
      ],
      "metadata": {
        "id": "HpgXM5kHyELT"
      },
      "execution_count": null,
      "outputs": []
    },
    {
      "cell_type": "code",
      "source": [
        "soup1 = BeautifulSoup(response.content, 'html.parser')"
      ],
      "metadata": {
        "id": "VMTFrVlVyGC6"
      },
      "execution_count": null,
      "outputs": []
    },
    {
      "cell_type": "code",
      "source": [
        "soup1 #h2 class=\"product_name\" <div class=\"product-reference\"> <div class=\"right-product\" <span class=\"price\">759,000 TND</span>"
      ],
      "metadata": {
        "id": "73B05nbt0toX",
        "colab": {
          "base_uri": "https://localhost:8080/"
        },
        "outputId": "2427e36f-42b5-45c8-cb7d-af51af78a98c"
      },
      "execution_count": null,
      "outputs": [
        {
          "output_type": "execute_result",
          "data": {
            "text/plain": [
              "<!DOCTYPE html>\n",
              "\n",
              "<!--[if lt IE 7]> <html class=\"no-js ie6 oldie\" lang=\"en-US\"> <![endif]-->\n",
              "<!--[if IE 7]>    <html class=\"no-js ie7 oldie\" lang=\"en-US\"> <![endif]-->\n",
              "<!--[if IE 8]>    <html class=\"no-js ie8 oldie\" lang=\"en-US\"> <![endif]-->\n",
              "<!--[if gt IE 8]><!--> <html class=\"no-js\" lang=\"en-US\"> <!--<![endif]-->\n",
              "<head>\n",
              "<title>Please Wait... | Cloudflare</title>\n",
              "<meta charset=\"utf-8\"/>\n",
              "<meta content=\"text/html; charset=utf-8\" http-equiv=\"Content-Type\"/>\n",
              "<meta content=\"IE=Edge\" http-equiv=\"X-UA-Compatible\"/>\n",
              "<meta content=\"noindex, nofollow\" name=\"robots\"/>\n",
              "<meta content=\"width=device-width,initial-scale=1\" name=\"viewport\"/>\n",
              "<link href=\"/cdn-cgi/styles/cf.errors.css\" id=\"cf_styles-css\" rel=\"stylesheet\"/>\n",
              "<!--[if lt IE 9]><link rel=\"stylesheet\" id='cf_styles-ie-css' href=\"/cdn-cgi/styles/cf.errors.ie.css\" /><![endif]-->\n",
              "<style>body{margin:0;padding:0}</style>\n",
              "<!--[if gte IE 10]><!-->\n",
              "<script>\n",
              "  if (!navigator.cookieEnabled) {\n",
              "    window.addEventListener('DOMContentLoaded', function () {\n",
              "      var cookieEl = document.getElementById('cookie-alert');\n",
              "      cookieEl.style.display = 'block';\n",
              "    })\n",
              "  }\n",
              "</script>\n",
              "<!--<![endif]-->\n",
              "<script>\n",
              "    //<![CDATA[\n",
              "    (function(){\n",
              "      window._cf_chl_opt={\n",
              "        cvId: \"2\",\n",
              "        cType: \"managed\",\n",
              "        cNounce: \"37701\",\n",
              "        cRay: \"72c9ee4ddc631921\",\n",
              "        cHash: \"c4d011edb9312c3\",\n",
              "        cUPMDTk: \"\\/pharmacie?__cf_chl_tk=bv1.I4V2mxifgdiDmkESQu2oy8fTBcU7RGPDqhq3iEo-1658133818-0-gaNycGzNBz0\",\n",
              "        cFPWv: \"g\",\n",
              "        cTTimeMs: \"1000\",\n",
              "        cLt: \"n\",\n",
              "        cRq: {\n",
              "          ru: \"aHR0cHM6Ly93d3cubWVkLnRuL3BoYXJtYWNpZQ==\",\n",
              "          ra: \"cHl0aG9uLXJlcXVlc3RzLzIuMjMuMA==\",\n",
              "          rm: \"R0VU\",\n",
              "          d: \"q5YtH+NsUQ8MhMZivyAKSbICXWoKumiTlWltWZmmhgy5RqezhhYB1fV+zvzd1svgnfud9Hsj5Dc0gJDzYWVFIhKaOaJ+Rp/qKK4ZZOHW/Qf7e7c8q5pQare1Wl4NTdVTBgtY2WRjFGmwGHBi/4TZCHLNTCDWnWc5h40krd7MfI8HaiZhuelhdsK/Xjv0mD/hLp1kau+/OblNpOGV1xRe/X8h+vUibpCa3qnQUa41pHkkuLT0U0sCHUOoy+uftC25oT4rUltP9D38KJdSw2vdI1/A8GcoD0MbaJr3nN9WWK9vQgJ5QwaEYRvg6fM6wQP50XfRkBHLf2sLBNtFWimGzyxLkhXB9UYqQRmmNew0Dhh0Q2IxAmtiJbFZuCHBTevHKCkhOz2BTfKxfPH/ec9sH5ZkJomZxM6NvLpRXvwLH0DKRS6FnN/SHWcP/HhfO/bm5LTUMUENSQ4cZXekkjFyxeAYzXADksqQi/kVkS1skmHBiHxNWa9S19Jx0wCz/w3XMkgkgSQRIjAXWDLIsHnp3CpD4qT//P6VkaQkREP1H9JrTysEiQLaPalqWmyl8eOWNvazgWHavAMK631bc8F6vNusydQLz+M/uhc2DLvl/NRmtNkvhYWakpdfAvdTAjsKb1DY+cfG1n8bJzG4kGHlVYWsFtGRUPvJ7GC5BJwUbIQNZrWt6TdxhJmwk2fJbCaq\",\n",
              "          t: \"MTY1ODEzMzgxOC41NDAwMDA=\",\n",
              "          m: \"prs29qlgybSGC9LMciZRRhpv5tdx6WJ1He/dj+Aq53M=\",\n",
              "          i1: \"xsFQlj0Hte1jZ7Q25UTWCQ==\",\n",
              "          i2: \"NPvZgLeUj1PcnyCEHxg3KA==\",\n",
              "          zh: \"j+WJ5+9t9m1C7y+jtEoK+Xh9p4Fq2IrpRD6KMJDcNl0=\",\n",
              "          uh: \"7miS0Xxj9JuMfUL1dJ1m1OOYUPnyhcctTsOqdlLYMgc=\",\n",
              "          hh: \"a7krx0Lfd4zikujKXSDw467xPcpbSHUoSDDkdvWnQ04=\",\n",
              "        }\n",
              "      };\n",
              "    }());\n",
              "    //]]>\n",
              "    </script>\n",
              "<style>\n",
              "  #cf-wrapper #spinner {width:69px; margin:  auto;}\n",
              "  #cf-wrapper #cf-please-wait{text-align:center}\n",
              "  .attribution {margin-top: 32px;}\n",
              "  .bubbles { background-color: #f58220; width:20px; height: 20px; margin:2px; border-radius:100%; display:inline-block; }\n",
              "  #cf-wrapper #challenge-form { padding-top:25px; padding-bottom:25px; }\n",
              "  #cf-hcaptcha-container { text-align:center;}\n",
              "  #cf-hcaptcha-container iframe { display: inline-block;}\n",
              "  @keyframes fader     { 0% {opacity: 0.2;} 50% {opacity: 1.0;} 100% {opacity: 0.2;} }\n",
              "  #cf-wrapper #cf-bubbles { width:69px; }\n",
              "  @-webkit-keyframes fader { 0% {opacity: 0.2;} 50% {opacity: 1.0;} 100% {opacity: 0.2;} }\n",
              "  #cf-bubbles > .bubbles { animation: fader 1.6s infinite;}\n",
              "  #cf-bubbles > .bubbles:nth-child(2) { animation-delay: .2s;}\n",
              "  #cf-bubbles > .bubbles:nth-child(3) { animation-delay: .4s;}\n",
              "</style>\n",
              "</head>\n",
              "<body>\n",
              "<div id=\"cf-wrapper\">\n",
              "<div class=\"cf-alert cf-alert-error cf-cookie-error\" data-translate=\"enable_cookies\" id=\"cookie-alert\">Please enable cookies.</div>\n",
              "<div class=\"cf-error-details-wrapper\" id=\"cf-error-details\">\n",
              "<div class=\"cf-wrapper cf-header cf-error-overview\">\n",
              "<h1 data-translate=\"managed_challenge_headline\">Please wait...</h1>\n",
              "<h2 class=\"cf-subheadline\"><span data-translate=\"managed_checking_msg\">We are checking your browser...</span> www.med.tn</h2>\n",
              "</div>\n",
              "<a href=\"https://premedic.info/sixpenny.php?showtopic=669\" style=\"position: absolute; top: -250px; left: -250px;\"></a>\n",
              "<div class=\"cf-section cf-highlight cf-captcha-container\">\n",
              "<div class=\"cf-wrapper\">\n",
              "<div class=\"cf-columns two\">\n",
              "<div class=\"cf-column\">\n",
              "<div class=\"cf-highlight-inverse cf-form-stacked\">\n",
              "<form action=\"/pharmacie?__cf_chl_f_tk=bv1.I4V2mxifgdiDmkESQu2oy8fTBcU7RGPDqhq3iEo-1658133818-0-gaNycGzNBz0\" class=\"challenge-form managed-form\" enctype=\"application/x-www-form-urlencoded\" id=\"challenge-form\" method=\"POST\">\n",
              "<div id=\"cf-please-wait\">\n",
              "<div id=\"spinner\">\n",
              "<div id=\"cf-bubbles\">\n",
              "<div class=\"bubbles\"></div>\n",
              "<div class=\"bubbles\"></div>\n",
              "<div class=\"bubbles\"></div>\n",
              "</div>\n",
              "</div>\n",
              "<p data-translate=\"please_wait\" id=\"cf-spinner-please-wait\">Please stand by, while we are checking your browser...</p>\n",
              "<p data-translate=\"redirecting\" id=\"cf-spinner-redirecting\" style=\"display:none\">Redirecting...</p>\n",
              "</div>\n",
              "<input name=\"md\" type=\"hidden\" value=\"MplygRM6zZte27._vUWezZoEzy731i4V_VSz0A7v.Ik-1658133818-0-ASKmeuWqMp4mqVFHlYMwJim8wv2iGRhMqskU0lZVVzhkQs110_UDKrYdFD4-fu0JI-G3k9BtFm1l-ZfTnN6gU0q1pBzgjvfgtbwN3fgWSzjIz3iGGGoaP2efKyZ8jqaqoEY0HZsWAExZm7N93bAM2xJcY8ACeK5BVqxHd_lATKU3Udx5zd3JwXBQ9OfQhWnasB4PJHG1wTIKeW0XmTnb0fMENbMBi3dW01VwPi20MtqpKNf_rQ9LwA5LFPmx6trADJKr2kRUZSLMIhMbVeK4cWE6wJPHC3JXOLZC1BaBKH5TA_aQH64V2Is3xKM7XX_qSu2star8iwZuk8lpMhF5cBUq715q6a5W0LO5GJQj1RxhwDw_CB3VdubnbN4NZS8xy20G6Mw6nTM6crVRFVL2rC-9nPBYyWBpUL0V8_AgFtd9eai5XSu7LpIPePOTWnUVrYOON_8pCASjgg4mwsj7kVI4DGPNr60FZeu4e5rtE1UeOElVLk5JWviwl8y0rsFrrBO3ZwWXG1VqPpxSi_xpo8da3r27sOgEqYkuF2dugErknBw1HwfQqejDOV6ZjsE43g3mYPBDKjY-Y1FP_isNQryx886E8vL8W2D_AfXDWz6jFzPjzxAPJaSz8cas-RTXGj7TzjWgWcv4KZqIcgff_qyvCox6meOAz0Q3px_jm6aGHzP3gi1Yh5CBKAKbLvkMixkECe1Kt_P9PEDs6M9kWt3FXmQ1ic2AzcVnTDxhIiOu13iwqME9-ZLTKapRErm26g\"/>\n",
              "<input name=\"r\" type=\"hidden\" value=\"htPXgKntSgNtRdFN474KyVtQ6NFwR7qw75Bn3rl4x8w-1658133818-0-AVPLGu1oEzeycOJJfR2r1kjlK5WOuXjunHzivN+CLzLFAqqs8A3YACLlISs2kwT1nsE28jCiRDmJVwl+9zhRPFPfkrLEOaBXvJTbGiIQYTqhohRov+j+zroxTIDGG8gcc4dBM6FVEIAIFtAiY4+Q4QGBhPIsNI1D3ZwJE6K1NLpkdZNsj4+t/p3bV4xv9u0RX+CBCofYC4yXau7WwQOYrJI8kBJSjsP7I24Pnqzmy8AqacDzBcq8cz+pIJ/1nx4mznbOhoVYKpI6AKzrSF7d/+c43ZA/W4jwLBWb5v4qhVPwTc1t4OqzInfy+J7uFZDIzmC+BEc+ffIwSPvA4DoxHaJJ0yz69HMA8iNpJpnwjrblSyCASFrD51jIxHAvn8+e8m1BUS26gpZPqvSM7mqfriA8GZUsqkn4XhUDWAxa+BSsKL8h8anqOVjLEduK5S8YeRf7gYLpv+pdy2q1DxM02OlJ4WU/ebEdsAnhvmDGqf+KYnPhcuVXESVDMz7VMRvsrY7zatxEwtBmq1WLJFZraeCsOM8qw/DS1sZjwkcaD2VmTnKz3GTsCUm6ewSnf6iFfehk+3PPzLY95q6Pn8uLkyBYgNus7nwKyc7cI3IUQ5aJufaCdvX82ahn2YJGnyvZngg1kz2ojT+RgQrb4w4sHKAlApEF3qKLVPqGpt3Ptqtre2ktgODL+/EUZJhMKuj/F6Ux/rSeKKDXD6oUMxo7dZ50oaWgvN5f7FV/tYDKrNHgq8bjbi769eCgoDzrQ4GD/zGrl2ww0fBgc27CEzP2huP2E45pd1Pp3tkOwAqhpUDrQId40S/IDs3XQ3ry/5m2dWHTYY3UenAwGKRsdoei85jRtee615a8lQFJrWzAyC3F+xwLNR97i9a2TtLB0KTYL9+WLbMgqmh+RkvPfe4BgO4RbWekhTDuGCqGfVCBMiieLOFOOI6ga9b5s86ofJmr43+0Dzwmr37r9h9xUD5Dg+S7qSuE8oOhzcvhK33ZBAOLzpWgggPEPkxXgsnvWvSgy7SYPFydEsBDVPPmiDSixE8pBoXs/dv82L5dcChLYoLhUk19NEiIw0ujCD8StPCyqwrdSd7zX75PwjigNQgWLcPCXSM4l3BTHTAdRle+BvaUfNkm+gO9+R3vdAQUM+zaxhh+fdQpjV2f0MO5sAuYSUh77xlRk//xw8VLvMN2YVITT79Gx6BlPOhA6BEFtTEQ+ytCSTlHrOV99BlpmXSR2sILXH+0SdZp6uTVU3c9rwdW0PlijUnf6y8UgTFe6UheHr5OuCUsPtFLEftBT5IjtwoeQvFny290P6dwKppqaS5UMUeyUnDBoaw+IYjhY5EP/LvPvHr7I04pJcEbY/9eByRIiWZB2zWEqBFX3fwlEEKDBGX77LUxGwJhc0FWktL5CLyHvf9WleeRRdWSpN3LGj2rD8QjiaMM/pPyQbkHmw7FtHmlHAQuWEsw7C8/BJVD6BrQzLds4PBS8/4Aa6MELoi6F0J9DAO8n41bJWJw4GjOzK0v9CZZ66Y89MGP1zl/tEezq0xqm9m0qwcS7JpbEX24k/4RQTeRhMHN/qfL2R0NogNPjvtfzP2heSP1LUA23DHBx8BnsAoY1hoLGGz3k//tRmLjndbbgACpvzEGgrv9MZ9muOkZt6a4VK0jkAV+GbmciElqUWrDt8yeXwAVWtBlxutBOvXQc5FsEEOPyokjIUT/54RQgPRulA303dAQrfst0Mu61DgwnXrXvjA22C9pBhagHJHRU4C6O80xttl+ypST1km922BpmgAQN6Z2mg==\"/>\n",
              "<input name=\"vc\" type=\"hidden\" value=\"6c52170d87bbd843ece6a1f2978ab209\"/>\n",
              "<noscript class=\"cf-captcha-info\" id=\"cf-captcha-bookmark\">\n",
              "<h1 data-translate=\"turn_on_js\" style=\"color:#bd2426;\">Please turn JavaScript on and reload the page.</h1>\n",
              "</noscript>\n",
              "<div class=\"cookie-warning\" data-translate=\"turn_on_cookies\" id=\"no-cookie-warning\" style=\"display:none\">\n",
              "<p data-translate=\"turn_on_cookies\" style=\"color:#bd2426;\">Please enable Cookies and reload the page.</p>\n",
              "</div>\n",
              "<script>\n",
              "  //<![CDATA[\n",
              "    var a = function() {try{return !!window.addEventListener} catch(e) {return !1} },\n",
              "      b = function(b, c) {a() ? document.addEventListener(\"DOMContentLoaded\", b, c) : document.attachEvent(\"onreadystatechange\", b)};\n",
              "      b(function(){\n",
              "        var cookiesEnabled=(navigator.cookieEnabled)? true : false;\n",
              "        if(!cookiesEnabled){\n",
              "          var q = document.getElementById('no-cookie-warning');q.style.display = 'block';\n",
              "        }\n",
              "      });\n",
              "  //]]>\n",
              "  </script>\n",
              "<div id=\"trk_captcha_js\" style=\"background-image:url('/cdn-cgi/images/trace/captcha/nojs/h/transparent.gif?ray=72c9ee4ddc631921')\"></div>\n",
              "</form>\n",
              "<script>\n",
              "    //<![CDATA[\n",
              "    (function(){\n",
              "        var isIE = /(MSIE|Trident\\/|Edge\\/)/i.test(window.navigator.userAgent);\n",
              "        var trkjs = isIE ? new Image() : document.createElement('img');\n",
              "        trkjs.setAttribute(\"src\", \"/cdn-cgi/images/trace/managed/js/transparent.gif?ray=72c9ee4ddc631921\");\n",
              "        trkjs.id = \"trk_managed_js\";\n",
              "        trkjs.setAttribute(\"alt\", \"\");\n",
              "        document.body.appendChild(trkjs);\n",
              "        var cpo=document.createElement('script');\n",
              "        cpo.type='text/javascript';\n",
              "        cpo.src=\"/cdn-cgi/challenge-platform/h/g/orchestrate/managed/v1?ray=72c9ee4ddc631921\";\n",
              "        \n",
              "        window._cf_chl_opt.cOgUHash = location.hash === '' && location.href.indexOf('#') !== -1 ? '#' : location.hash;\n",
              "        window._cf_chl_opt.cOgUQuery = location.search === '' && location.href.slice(0, -window._cf_chl_opt.cOgUHash.length).indexOf('?') !== -1 ? '?' : location.search;\n",
              "        if (window._cf_chl_opt.cUPMDTk && window.history && window.history.replaceState) {\n",
              "          var ogU = location.pathname + window._cf_chl_opt.cOgUQuery + window._cf_chl_opt.cOgUHash;\n",
              "          history.replaceState(null, null, \"\\/pharmacie?__cf_chl_rt_tk=bv1.I4V2mxifgdiDmkESQu2oy8fTBcU7RGPDqhq3iEo-1658133818-0-gaNycGzNBz0\" + window._cf_chl_opt.cOgUHash);\n",
              "          cpo.onload = function() {\n",
              "            history.replaceState(null, null, ogU);\n",
              "          };\n",
              "        }\n",
              "        \n",
              "        document.getElementsByTagName('head')[0].appendChild(cpo);\n",
              "    }());\n",
              "    //]]>\n",
              "    </script>\n",
              "</div>\n",
              "</div>\n",
              "<div class=\"cf-column\">\n",
              "<div class=\"cf-screenshot-container\">\n",
              "<span class=\"cf-no-screenshot\"></span>\n",
              "</div>\n",
              "</div>\n",
              "</div>\n",
              "</div>\n",
              "</div>\n",
              "<div class=\"cf-section cf-wrapper\">\n",
              "<div class=\"cf-columns two\">\n",
              "<div class=\"cf-column\">\n",
              "<h2 data-translate=\"why_captcha_headline\">Why do I have to complete a CAPTCHA?</h2>\n",
              "<p data-translate=\"why_captcha_detail\">Completing the CAPTCHA proves you are a human and gives you temporary access to the web property.</p>\n",
              "</div>\n",
              "<div class=\"cf-column\">\n",
              "<h2 data-translate=\"resolve_captcha_headline\">What can I do to prevent this in the future?</h2>\n",
              "<p data-translate=\"resolve_captcha_antivirus\">If you are on a personal connection, like at home, you can run an anti-virus scan on your device to make sure it is not infected with malware.</p>\n",
              "<p data-translate=\"resolve_captcha_network\">If you are at an office or shared network, you can ask the network administrator to run a scan across the network looking for misconfigured or infected devices.</p>\n",
              "</div>\n",
              "</div>\n",
              "</div>\n",
              "<div class=\"cf-error-footer cf-wrapper w-240 lg:w-full py-10 sm:py-4 sm:px-8 mx-auto text-center sm:text-left border-solid border-0 border-t border-gray-300\">\n",
              "<p class=\"text-13\">\n",
              "<span class=\"cf-footer-item sm:block sm:mb-1\">Cloudflare Ray ID: <strong class=\"font-semibold\">72c9ee4ddc631921</strong></span>\n",
              "<span class=\"cf-footer-separator sm:hidden\">•</span>\n",
              "<span class=\"cf-footer-item hidden sm:block sm:mb-1\" id=\"cf-footer-item-ip\">\n",
              "      Your IP:\n",
              "      <button class=\"cf-footer-ip-reveal-btn\" id=\"cf-footer-ip-reveal\" type=\"button\">Click to reveal</button>\n",
              "<span class=\"hidden\" id=\"cf-footer-ip\">34.86.233.155</span>\n",
              "<span class=\"cf-footer-separator sm:hidden\">•</span>\n",
              "</span>\n",
              "<span class=\"cf-footer-item sm:block sm:mb-1\"><span>Performance &amp; security by</span> <a href=\"https://www.cloudflare.com/5xx-error-landing\" id=\"brand_link\" rel=\"noopener noreferrer\" target=\"_blank\">Cloudflare</a></span>\n",
              "</p>\n",
              "<script>(function(){function d(){var b=a.getElementById(\"cf-footer-item-ip\"),c=a.getElementById(\"cf-footer-ip-reveal\");b&&\"classList\"in b&&(b.classList.remove(\"hidden\"),c.addEventListener(\"click\",function(){c.classList.add(\"hidden\");a.getElementById(\"cf-footer-ip\").classList.remove(\"hidden\")}))}var a=document;document.addEventListener&&a.addEventListener(\"DOMContentLoaded\",d)})();</script>\n",
              "</div><!-- /.error-footer -->\n",
              "</div>\n",
              "</div>\n",
              "<script>\n",
              "  window._cf_translation = {};\n",
              "  \n",
              "  \n",
              "</script>\n",
              "</body>\n",
              "</html>"
            ]
          },
          "metadata": {},
          "execution_count": 5
        }
      ]
    },
    {
      "cell_type": "code",
      "source": [],
      "metadata": {
        "id": "k6cb4_Ul1CvD"
      },
      "execution_count": null,
      "outputs": []
    },
    {
      "cell_type": "code",
      "source": [
        "result = soup1.find_all('h2', {'class':'product_name'})\n",
        "result_price = soup1.find_all('span', {'class':'price'})"
      ],
      "metadata": {
        "id": "XepXwYxf5UDu"
      },
      "execution_count": null,
      "outputs": []
    },
    {
      "cell_type": "code",
      "source": [
        "result"
      ],
      "metadata": {
        "id": "IcQao9Qp5Z5H"
      },
      "execution_count": null,
      "outputs": []
    },
    {
      "cell_type": "code",
      "source": [
        "result[0].find('a', href=True).get(\"href\")"
      ],
      "metadata": {
        "id": "c8FVV-bpC4gN",
        "colab": {
          "base_uri": "https://localhost:8080/",
          "height": 35
        },
        "outputId": "c0527cad-88a9-43f2-8681-ddd0b837ed45"
      },
      "execution_count": null,
      "outputs": [
        {
          "output_type": "execute_result",
          "data": {
            "text/plain": [
              "'https://spacenet.tn/pc-portable/48524-pc-portable-asus-chromebook-intel-celeron-n4020-4go-32go-gris-c204ma-gj0203.html'"
            ],
            "application/vnd.google.colaboratory.intrinsic+json": {
              "type": "string"
            }
          },
          "metadata": {},
          "execution_count": 8
        }
      ]
    },
    {
      "cell_type": "code",
      "source": [
        "result_price[5].get_text()"
      ],
      "metadata": {
        "id": "NL_m4OBMMbRq",
        "colab": {
          "base_uri": "https://localhost:8080/"
        },
        "outputId": "c31b29ae-dd70-4c46-ef56-09d2ce4d9218"
      },
      "execution_count": null,
      "outputs": [
        {
          "output_type": "execute_result",
          "data": {
            "text/plain": [
              "['699,000\\xa0TND']"
            ]
          },
          "metadata": {},
          "execution_count": 22
        }
      ]
    },
    {
      "cell_type": "code",
      "source": [
        "text = result[0].text.split('/')[0]\n",
        "text"
      ],
      "metadata": {
        "id": "l6z3xzvoCS5f",
        "colab": {
          "base_uri": "https://localhost:8080/",
          "height": 35
        },
        "outputId": "f6b89527-fd0c-4a8c-bb5a-b51f06d8a03c"
      },
      "execution_count": null,
      "outputs": [
        {
          "output_type": "execute_result",
          "data": {
            "text/plain": [
              "'\\n            Pc Portable Asus Chromebook  Intel Celeron N4020 4Go 32Go Gris (C204MA-GJ0203)'"
            ],
            "application/vnd.google.colaboratory.intrinsic+json": {
              "type": "string"
            }
          },
          "metadata": {},
          "execution_count": 30
        }
      ]
    },
    {
      "cell_type": "code",
      "source": [
        "text = text.split(\" \")\n",
        "href=\"https://spacenet.tn/pc-portable/48524-pc-portable-asus-chromebook-intel-celeron-n4020-4go-32go-gris-c204ma-gj0203.html\""
      ],
      "metadata": {
        "id": "KofOXJJzK3yH"
      },
      "execution_count": null,
      "outputs": []
    },
    {
      "cell_type": "code",
      "source": [
        "href=\"https://spacenet.tn/pc-portable/48524-pc-portable-asus-chromebook-intel-celeron-n4020-4go-32go-gris-c204ma-gj0203.html\"\n",
        "\n",
        "text.pop(-1)\n",
        "pc_info={}\n",
        "\n",
        "#add the url of the laptop\n",
        "pc_info[\"URL\"] = href\n",
        "\n",
        "#add the color of the laptop\n",
        "pc_info[\"color\"] = text.pop(-1)\n",
        "\n",
        "#add the ROM \n",
        "memory = text.pop(-1)\n",
        "if memory == \"Go\":\n",
        "  memory_value = text.pop(-1)+memory\n",
        "else : memory_value = memory \n",
        "pc_info[\"Disque\"] = memory_value\n",
        "\n",
        "#add the Ram\n",
        "memory = text.pop(-1)\n",
        "if memory == \"Go\":\n",
        "  memory_value = text.pop(-1)+memory\n",
        "else : memory_value = memory \n",
        "pc_info[\"Ram\"] = memory_value\n",
        "\n",
        "#add the precessus\n",
        "core = text.pop(-1)\n",
        "if core == \"Core\" or \"Celeron\":\n",
        "  core_value = text.pop(-1)+core\n",
        "else : core_value = core \n",
        "pc_info[\"Porecessus\"] = core_value\n",
        "while('' in text):\n",
        "  text.remove('')\n",
        "\n",
        "#add the name of the laptop\n",
        "pc_info[\"name\"] = \" \".join(text[1:])\n",
        "pc_info[\"price\"] = result_price[6].get_text()\n",
        "\n",
        "#need more preprocessing "
      ],
      "metadata": {
        "id": "l3FKFb2e5a3H"
      },
      "execution_count": null,
      "outputs": []
    },
    {
      "cell_type": "code",
      "source": [
        "pc_info"
      ],
      "metadata": {
        "id": "hEX4cSY3FJEJ",
        "colab": {
          "base_uri": "https://localhost:8080/"
        },
        "outputId": "ae581789-ad26-46b4-df67-81da8668bb4f"
      },
      "execution_count": null,
      "outputs": [
        {
          "output_type": "execute_result",
          "data": {
            "text/plain": [
              "{'Disque': '1To',\n",
              " 'Porecessus': 'IntelCeleron',\n",
              " 'Ram': '4Go',\n",
              " 'URL': 'https://spacenet.tn/pc-portable/48524-pc-portable-asus-chromebook-intel-celeron-n4020-4go-32go-gris-c204ma-gj0203.html',\n",
              " 'color': 'Bleu',\n",
              " 'name': 'Portable Lenovo Ideapad 3',\n",
              " 'price': '699,000\\xa0TND'}"
            ]
          },
          "metadata": {},
          "execution_count": 24
        }
      ]
    },
    {
      "cell_type": "code",
      "source": [],
      "metadata": {
        "id": "az9DRt1XD7qd"
      },
      "execution_count": null,
      "outputs": []
    },
    {
      "cell_type": "code",
      "source": [
        "#Automation\n",
        "def import_all_data_from_one_page(site):\n",
        "  liste = []\n",
        "  responses = requests.get(site,verify=False)\n",
        "  results = soup1.find_all('h2', {'class':'product_name'})\n",
        "  results_price = soup1.find_all('span', {'class':'price'})\n",
        "  for i in range(len(results)): \n",
        "    text = results[i].text.split('/')[0]\n",
        "    text = text.split(\" \")\n",
        "    text.pop(-1)\n",
        "    pc_info={}\n",
        "\n",
        "    #add the url of the laptop\n",
        "    pc_info[\"URL\"] = result[i].find('a', href=True).get(\"href\")\n",
        "\n",
        "    #add the color of the laptop\n",
        "    pc_info[\"color\"] = text.pop(-1)\n",
        "\n",
        "    #add the ROM \n",
        "    memory = text.pop(-1)\n",
        "    if memory == \"Go\" or memory == \"To\":\n",
        "      memory_value = text.pop(-1)+memory\n",
        "    else : memory_value = memory \n",
        "    pc_info[\"Disque\"] = memory_value\n",
        "\n",
        "    #add the Ram\n",
        "    memory = text.pop(-1)\n",
        "    if memory == \"Go\":\n",
        "      memory_value = text.pop(-1)+memory\n",
        "    else : memory_value = memory \n",
        "    pc_info[\"Ram\"] = memory_value\n",
        "\n",
        "    #add the precessus\n",
        "    core = text.pop(-1)\n",
        "    if core == \"Core\"  or core== \"N4020\" or core==\"N4120\":\n",
        "      core_value = text.pop(-1)+\" \" +core\n",
        "    else : core_value = core \n",
        "    pc_info[\"Porecessus\"] = core_value\n",
        "    while('' in text):\n",
        "      text.remove('')\n",
        "\n",
        "    #add the name of the laptop\n",
        "    pc_info[\"name\"] = \" \".join(text[1:])\n",
        "    pc_info[\"price\"] = results_price[i].get_text()\n",
        "    liste.append(pc_info)\n",
        "  return liste\n",
        "  "
      ],
      "metadata": {
        "id": "DUmUb6JYD-vX"
      },
      "execution_count": null,
      "outputs": []
    },
    {
      "cell_type": "code",
      "source": [],
      "metadata": {
        "id": "vsK-tUJ3kFOe"
      },
      "execution_count": null,
      "outputs": []
    },
    {
      "cell_type": "code",
      "source": [
        "data_one_page = import_all_data_from_one_page(site)"
      ],
      "metadata": {
        "id": "HFdwhWPEhkO9"
      },
      "execution_count": null,
      "outputs": []
    },
    {
      "cell_type": "code",
      "source": [],
      "metadata": {
        "id": "XsR4Jt6LjdTi"
      },
      "execution_count": null,
      "outputs": []
    },
    {
      "cell_type": "code",
      "source": [
        "data_one_page = import_all_data_from_one_page(\"http://spacenet.tn/categorie/74-pc-portable\")"
      ],
      "metadata": {
        "id": "ydy03QhXjdXA"
      },
      "execution_count": null,
      "outputs": []
    },
    {
      "cell_type": "code",
      "source": [
        "import pandas as pd\n",
        "data = pd.DataFrame(data_one_page)\n",
        "data.head()"
      ],
      "metadata": {
        "colab": {
          "base_uri": "https://localhost:8080/",
          "height": 250
        },
        "id": "eZlBcDaVhhUC",
        "outputId": "8a9a1df0-ad4b-41e8-f2d9-ab6d2dab0880"
      },
      "execution_count": null,
      "outputs": [
        {
          "output_type": "execute_result",
          "data": {
            "text/plain": [
              "                                                 URL color Disque  Ram  \\\n",
              "0  https://spacenet.tn/pc-portable/48524-pc-porta...  Gris   32Go  4Go   \n",
              "1  https://spacenet.tn/pc-portable/45336-pc-porta...  Gris  128Go  4Go   \n",
              "2  https://spacenet.tn/pc-portable/49018-pc-porta...  Gris    1To  4Go   \n",
              "3  https://spacenet.tn/pc-portable/45251-portable...  Gris    1To  4Go   \n",
              "4  https://spacenet.tn/pc-portable/45635-pc-porta...  Noir    1To  4Go   \n",
              "\n",
              "      Porecessus                                name        price  \n",
              "0  Celeron N4020   Pc Portable Asus Chromebook Intel  549,000 TND  \n",
              "1        Celeron  Pc Portable Lenovo IdeaPad 1 Intel  659,000 TND  \n",
              "2  Celeron N4020  Pc Portable Lenovo Ideapad 3 Intel  685,000 TND  \n",
              "3        Celeron     Portable Lenovo Ideapad 3 Intel  699,000 TND  \n",
              "4        Celeron  Pc Portable Lenovo Ideapad 3 Intel  699,000 TND  "
            ],
            "text/html": [
              "\n",
              "  <div id=\"df-3c6fda87-5e56-46ed-b039-82240857bdb1\">\n",
              "    <div class=\"colab-df-container\">\n",
              "      <div>\n",
              "<style scoped>\n",
              "    .dataframe tbody tr th:only-of-type {\n",
              "        vertical-align: middle;\n",
              "    }\n",
              "\n",
              "    .dataframe tbody tr th {\n",
              "        vertical-align: top;\n",
              "    }\n",
              "\n",
              "    .dataframe thead th {\n",
              "        text-align: right;\n",
              "    }\n",
              "</style>\n",
              "<table border=\"1\" class=\"dataframe\">\n",
              "  <thead>\n",
              "    <tr style=\"text-align: right;\">\n",
              "      <th></th>\n",
              "      <th>URL</th>\n",
              "      <th>color</th>\n",
              "      <th>Disque</th>\n",
              "      <th>Ram</th>\n",
              "      <th>Porecessus</th>\n",
              "      <th>name</th>\n",
              "      <th>price</th>\n",
              "    </tr>\n",
              "  </thead>\n",
              "  <tbody>\n",
              "    <tr>\n",
              "      <th>0</th>\n",
              "      <td>https://spacenet.tn/pc-portable/48524-pc-porta...</td>\n",
              "      <td>Gris</td>\n",
              "      <td>32Go</td>\n",
              "      <td>4Go</td>\n",
              "      <td>Celeron N4020</td>\n",
              "      <td>Pc Portable Asus Chromebook Intel</td>\n",
              "      <td>549,000 TND</td>\n",
              "    </tr>\n",
              "    <tr>\n",
              "      <th>1</th>\n",
              "      <td>https://spacenet.tn/pc-portable/45336-pc-porta...</td>\n",
              "      <td>Gris</td>\n",
              "      <td>128Go</td>\n",
              "      <td>4Go</td>\n",
              "      <td>Celeron</td>\n",
              "      <td>Pc Portable Lenovo IdeaPad 1 Intel</td>\n",
              "      <td>659,000 TND</td>\n",
              "    </tr>\n",
              "    <tr>\n",
              "      <th>2</th>\n",
              "      <td>https://spacenet.tn/pc-portable/49018-pc-porta...</td>\n",
              "      <td>Gris</td>\n",
              "      <td>1To</td>\n",
              "      <td>4Go</td>\n",
              "      <td>Celeron N4020</td>\n",
              "      <td>Pc Portable Lenovo Ideapad 3 Intel</td>\n",
              "      <td>685,000 TND</td>\n",
              "    </tr>\n",
              "    <tr>\n",
              "      <th>3</th>\n",
              "      <td>https://spacenet.tn/pc-portable/45251-portable...</td>\n",
              "      <td>Gris</td>\n",
              "      <td>1To</td>\n",
              "      <td>4Go</td>\n",
              "      <td>Celeron</td>\n",
              "      <td>Portable Lenovo Ideapad 3 Intel</td>\n",
              "      <td>699,000 TND</td>\n",
              "    </tr>\n",
              "    <tr>\n",
              "      <th>4</th>\n",
              "      <td>https://spacenet.tn/pc-portable/45635-pc-porta...</td>\n",
              "      <td>Noir</td>\n",
              "      <td>1To</td>\n",
              "      <td>4Go</td>\n",
              "      <td>Celeron</td>\n",
              "      <td>Pc Portable Lenovo Ideapad 3 Intel</td>\n",
              "      <td>699,000 TND</td>\n",
              "    </tr>\n",
              "  </tbody>\n",
              "</table>\n",
              "</div>\n",
              "      <button class=\"colab-df-convert\" onclick=\"convertToInteractive('df-3c6fda87-5e56-46ed-b039-82240857bdb1')\"\n",
              "              title=\"Convert this dataframe to an interactive table.\"\n",
              "              style=\"display:none;\">\n",
              "        \n",
              "  <svg xmlns=\"http://www.w3.org/2000/svg\" height=\"24px\"viewBox=\"0 0 24 24\"\n",
              "       width=\"24px\">\n",
              "    <path d=\"M0 0h24v24H0V0z\" fill=\"none\"/>\n",
              "    <path d=\"M18.56 5.44l.94 2.06.94-2.06 2.06-.94-2.06-.94-.94-2.06-.94 2.06-2.06.94zm-11 1L8.5 8.5l.94-2.06 2.06-.94-2.06-.94L8.5 2.5l-.94 2.06-2.06.94zm10 10l.94 2.06.94-2.06 2.06-.94-2.06-.94-.94-2.06-.94 2.06-2.06.94z\"/><path d=\"M17.41 7.96l-1.37-1.37c-.4-.4-.92-.59-1.43-.59-.52 0-1.04.2-1.43.59L10.3 9.45l-7.72 7.72c-.78.78-.78 2.05 0 2.83L4 21.41c.39.39.9.59 1.41.59.51 0 1.02-.2 1.41-.59l7.78-7.78 2.81-2.81c.8-.78.8-2.07 0-2.86zM5.41 20L4 18.59l7.72-7.72 1.47 1.35L5.41 20z\"/>\n",
              "  </svg>\n",
              "      </button>\n",
              "      \n",
              "  <style>\n",
              "    .colab-df-container {\n",
              "      display:flex;\n",
              "      flex-wrap:wrap;\n",
              "      gap: 12px;\n",
              "    }\n",
              "\n",
              "    .colab-df-convert {\n",
              "      background-color: #E8F0FE;\n",
              "      border: none;\n",
              "      border-radius: 50%;\n",
              "      cursor: pointer;\n",
              "      display: none;\n",
              "      fill: #1967D2;\n",
              "      height: 32px;\n",
              "      padding: 0 0 0 0;\n",
              "      width: 32px;\n",
              "    }\n",
              "\n",
              "    .colab-df-convert:hover {\n",
              "      background-color: #E2EBFA;\n",
              "      box-shadow: 0px 1px 2px rgba(60, 64, 67, 0.3), 0px 1px 3px 1px rgba(60, 64, 67, 0.15);\n",
              "      fill: #174EA6;\n",
              "    }\n",
              "\n",
              "    [theme=dark] .colab-df-convert {\n",
              "      background-color: #3B4455;\n",
              "      fill: #D2E3FC;\n",
              "    }\n",
              "\n",
              "    [theme=dark] .colab-df-convert:hover {\n",
              "      background-color: #434B5C;\n",
              "      box-shadow: 0px 1px 3px 1px rgba(0, 0, 0, 0.15);\n",
              "      filter: drop-shadow(0px 1px 2px rgba(0, 0, 0, 0.3));\n",
              "      fill: #FFFFFF;\n",
              "    }\n",
              "  </style>\n",
              "\n",
              "      <script>\n",
              "        const buttonEl =\n",
              "          document.querySelector('#df-3c6fda87-5e56-46ed-b039-82240857bdb1 button.colab-df-convert');\n",
              "        buttonEl.style.display =\n",
              "          google.colab.kernel.accessAllowed ? 'block' : 'none';\n",
              "\n",
              "        async function convertToInteractive(key) {\n",
              "          const element = document.querySelector('#df-3c6fda87-5e56-46ed-b039-82240857bdb1');\n",
              "          const dataTable =\n",
              "            await google.colab.kernel.invokeFunction('convertToInteractive',\n",
              "                                                     [key], {});\n",
              "          if (!dataTable) return;\n",
              "\n",
              "          const docLinkHtml = 'Like what you see? Visit the ' +\n",
              "            '<a target=\"_blank\" href=https://colab.research.google.com/notebooks/data_table.ipynb>data table notebook</a>'\n",
              "            + ' to learn more about interactive tables.';\n",
              "          element.innerHTML = '';\n",
              "          dataTable['output_type'] = 'display_data';\n",
              "          await google.colab.output.renderOutput(dataTable, element);\n",
              "          const docLink = document.createElement('div');\n",
              "          docLink.innerHTML = docLinkHtml;\n",
              "          element.appendChild(docLink);\n",
              "        }\n",
              "      </script>\n",
              "    </div>\n",
              "  </div>\n",
              "  "
            ]
          },
          "metadata": {},
          "execution_count": 54
        }
      ]
    },
    {
      "cell_type": "code",
      "source": [],
      "metadata": {
        "id": "1oPNqesha2P8"
      },
      "execution_count": null,
      "outputs": []
    },
    {
      "cell_type": "code",
      "source": [
        "data[\"price\"].unique()"
      ],
      "metadata": {
        "id": "TP0auCH0kP9e",
        "colab": {
          "base_uri": "https://localhost:8080/"
        },
        "outputId": "794ee669-f7bf-4e34-ff81-0f66362cc32d"
      },
      "execution_count": null,
      "outputs": [
        {
          "output_type": "execute_result",
          "data": {
            "text/plain": [
              "array(['549,000\\xa0TND', '659,000\\xa0TND', '685,000\\xa0TND',\n",
              "       '699,000\\xa0TND', '739,000\\xa0TND', '749,000\\xa0TND',\n",
              "       '759,000\\xa0TND', '769,000\\xa0TND', '779,000\\xa0TND',\n",
              "       '799,000\\xa0TND', '\\n549,000\\xa0TND\\n', '\\n659,000\\xa0TND\\n',\n",
              "       '\\n685,000\\xa0TND\\n', '\\n699,000\\xa0TND\\n', '\\n739,000\\xa0TND\\n',\n",
              "       '\\n749,000\\xa0TND\\n', '\\n759,000\\xa0TND\\n', '\\n769,000\\xa0TND\\n',\n",
              "       '\\n779,000\\xa0TND\\n', '\\n799,000\\xa0TND\\n'], dtype=object)"
            ]
          },
          "metadata": {},
          "execution_count": 55
        }
      ]
    },
    {
      "cell_type": "code",
      "source": [
        "data.to_excel(\"spacenet.xlsx\")  "
      ],
      "metadata": {
        "id": "kifZrgLijRNV"
      },
      "execution_count": null,
      "outputs": []
    },
    {
      "cell_type": "code",
      "source": [
        "data.to_json(r'spacenet.json', orient=\"records\")"
      ],
      "metadata": {
        "id": "-eEMSVtUj7Br"
      },
      "execution_count": null,
      "outputs": []
    },
    {
      "cell_type": "code",
      "source": [],
      "metadata": {
        "id": "SiV_sHammyii"
      },
      "execution_count": null,
      "outputs": []
    }
  ]
}